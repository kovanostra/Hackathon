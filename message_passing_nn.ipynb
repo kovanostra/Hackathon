{
  "nbformat": 4,
  "nbformat_minor": 0,
  "metadata": {
    "colab": {
      "name": "message-passing-nn.ipynb",
      "provenance": [],
      "collapsed_sections": [],
      "toc_visible": true,
      "authorship_tag": "ABX9TyO5+xipXDKfLmH3Gp9+JVOV",
      "include_colab_link": true
    },
    "kernelspec": {
      "name": "python3",
      "display_name": "Python 3"
    },
    "accelerator": "GPU"
  },
  "cells": [
    {
      "cell_type": "markdown",
      "metadata": {
        "id": "view-in-github",
        "colab_type": "text"
      },
      "source": [
        "<a href=\"https://colab.research.google.com/github/kovanostra/Hackathon/blob/master/message_passing_nn.ipynb\" target=\"_parent\"><img src=\"https://colab.research.google.com/assets/colab-badge.svg\" alt=\"Open In Colab\"/></a>"
      ]
    },
    {
      "cell_type": "markdown",
      "metadata": {
        "id": "GgFfXa6shF7x",
        "colab_type": "text"
      },
      "source": [
        "## Install requirements"
      ]
    },
    {
      "cell_type": "code",
      "metadata": {
        "id": "v4-v4p4thJzv",
        "colab_type": "code",
        "colab": {}
      },
      "source": [
        "!pip install -U git+https://github.com/kovanostra/message-passing-nn/\n",
        "!pip install -U pytorch pandas"
      ],
      "execution_count": 0,
      "outputs": []
    },
    {
      "cell_type": "markdown",
      "metadata": {
        "id": "I146h6N9hQ0x",
        "colab_type": "text"
      },
      "source": [
        "## Imports"
      ]
    },
    {
      "cell_type": "code",
      "metadata": {
        "id": "h_bze2F0hWYo",
        "colab_type": "code",
        "colab": {}
      },
      "source": [
        "import torch\n",
        "from src.domain.model_trainer import ModelTrainer\n",
        "from src.domain.graph_encoder import GraphEncoder\n",
        "from src.domain.graph import Graph\n",
        "from src.domain.data_preprocessor import DataPreprocessor\n",
        "from src.repository.training_data_repository import TrainingDataRepository"
      ],
      "execution_count": 0,
      "outputs": []
    },
    {
      "cell_type": "markdown",
      "metadata": {
        "id": "UTwHTiJ6hZHG",
        "colab_type": "text"
      },
      "source": [
        "## Set up the variables "
      ]
    },
    {
      "cell_type": "code",
      "metadata": {
        "id": "1wyqRNGahiAG",
        "colab_type": "code",
        "colab": {}
      },
      "source": [
        "device = \"cuda\"\n",
        "epochs = 10\n",
        "loss_function = 'MSE'\n",
        "optimizer = 'SGD'\n",
        "batch_size = 1\n",
        "validation_split = 0.2\n",
        "test_split = 0.1\n",
        "time_steps = 5\n",
        "validation_period = 5\n",
        "\n",
        "dataset_size = 10\n",
        "number_of_nodes = 10\n",
        "number_of_node_features = 2\n",
        "fully_connected_layer_input_size = number_of_nodes*number_of_node_features\n",
        "fully_connected_layer_output_size = number_of_nodes**2\n",
        "\n",
        "configuration_dictionary = {'time_steps': time_steps,\n",
        "                            'loss_function': loss_function,\n",
        "                            'optimizer': optimizer}"
      ],
      "execution_count": 0,
      "outputs": []
    },
    {
      "cell_type": "markdown",
      "metadata": {
        "id": "ThMKO7_ChlSD",
        "colab_type": "text"
      },
      "source": [
        "## Set up the dataset."
      ]
    },
    {
      "cell_type": "code",
      "metadata": {
        "id": "bfUiHJE3hqZD",
        "colab_type": "code",
        "colab": {}
      },
      "source": [
        "dataset_name = 'sample-dataset'\n",
        "data_directory = 'data/'\n",
        "training_data_repository = TrainingDataRepository(data_directory, dataset_name)\n",
        "raw_dataset = training_data_repository.get_all_features_and_labels_from_separate_files()\n",
        "initialization_graph = DataPreprocessor.extract_initialization_graph(raw_dataset)\n",
        "training_data, validation_data, test_data = DataPreprocessor.train_validation_test_split(raw_dataset, \n",
        "                                                                                         batch_size, \n",
        "                                                                                         validation_split, \n",
        "                                                                                         test_split)"
      ],
      "execution_count": 0,
      "outputs": []
    },
    {
      "cell_type": "markdown",
      "metadata": {
        "id": "3g0VlZg2h2oM",
        "colab_type": "text"
      },
      "source": [
        "## Instatiate the model and the model trainer"
      ]
    },
    {
      "cell_type": "code",
      "metadata": {
        "id": "IIZgvJE-h61V",
        "colab_type": "code",
        "colab": {}
      },
      "source": [
        "model_trainer = ModelTrainer(GraphEncoder, device)\n",
        "model_trainer.instantiate_attributes(initialization_graph, configuration_dictionary)"
      ],
      "execution_count": 0,
      "outputs": []
    },
    {
      "cell_type": "markdown",
      "metadata": {
        "id": "wqO8D65Jh87B",
        "colab_type": "text"
      },
      "source": [
        "## Train the model"
      ]
    },
    {
      "cell_type": "code",
      "metadata": {
        "id": "PLaPI6ZYfcbY",
        "colab_type": "code",
        "colab": {
          "base_uri": "https://localhost:8080/",
          "height": 238
        },
        "outputId": "06a0f532-4fc4-45a3-eeb3-32c92c48a31e"
      },
      "source": [
        "for epoch in range(epochs):\n",
        "    training_loss = model_trainer.do_train(training_data, epoch)\n",
        "    print(\"Epoch\", epoch, \"Training loss:\", training_loss)\n",
        "    if epoch % validation_period == 0:\n",
        "        validation_loss = model_trainer.do_evaluate(validation_data, epoch)\n",
        "        print(\"Epoch\", epoch, \"Validation loss:\", validation_loss)\n",
        "test_loss = model_trainer.do_evaluate(test_data)\n",
        "print(\"Test loss:\", validation_loss)"
      ],
      "execution_count": 5,
      "outputs": [
        {
          "output_type": "stream",
          "text": [
            "Epoch 0 Training loss: 0.22059928625822067\n",
            "Epoch 0 Validation loss: 0.1468171924352646\n",
            "Epoch 1 Training loss: 0.22009453177452087\n",
            "Epoch 2 Training loss: 0.21913564205169678\n",
            "Epoch 3 Training loss: 0.21781370043754578\n",
            "Epoch 4 Training loss: 0.21620383858680725\n",
            "Epoch 5 Training loss: 0.21436774730682373\n",
            "Epoch 5 Validation loss: 0.1418035626411438\n",
            "Epoch 6 Training loss: 0.2123558148741722\n",
            "Epoch 7 Training loss: 0.2102089449763298\n",
            "Epoch 8 Training loss: 0.2079601138830185\n",
            "Epoch 9 Training loss: 0.20563580840826035\n",
            "Test loss: 0.1418035626411438\n"
          ],
          "name": "stdout"
        }
      ]
    },
    {
      "cell_type": "code",
      "metadata": {
        "id": "MqjNUqgehFKs",
        "colab_type": "code",
        "colab": {}
      },
      "source": [
        ""
      ],
      "execution_count": 0,
      "outputs": []
    },
    {
      "cell_type": "code",
      "metadata": {
        "id": "UJGP2EtSgJR1",
        "colab_type": "code",
        "colab": {}
      },
      "source": [
        ""
      ],
      "execution_count": 0,
      "outputs": []
    }
  ]
}